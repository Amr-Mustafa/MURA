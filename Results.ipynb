{
 "cells": [
  {
   "cell_type": "code",
   "execution_count": null,
   "metadata": {},
   "outputs": [],
   "source": [
    "bars1 = pd.read_csv(\"inceptionV1_accuracy.csv\", sep=',')  # Reads a magic csv file.\n",
    "bars2 = pd.read_csv(\"MobileNet_accuracy.csv\", sep=',')  # Reads a magic csv file.\n",
    "bars3 = pd.read_csv(\"VGG19_accuracy.csv\", sep=',')  # Reads a magic csv file.\n"
   ]
  },
  {
   "cell_type": "code",
   "execution_count": 33,
   "metadata": {},
   "outputs": [
    {
     "data": {
      "image/png": "[encoded data removed]",
      "text/plain": [
       "<Figure size 432x288 with 1 Axes>"
      ]
     },
     "metadata": {
      "needs_background": "light"
     },
     "output_type": "display_data"
    }
   ],
   "source": [
    "# libraries\n",
    "import numpy as np\n",
    "import matplotlib.pyplot as plt\n",
    "\n",
    "# set width of bar\n",
    "barWidth = 0.3\n",
    "\n",
    "# set height of bar\n",
    "bars1 = [12, 30, 1, 8, 22,2,2]\n",
    "bars2 = [28, 6, 16, 5, 10,3,3]\n",
    "bars3 = [29, 3, 24, 25, 17,5,5]\n",
    "\n",
    "# Set position of bar on X axis\n",
    "r1 = np.arange(len(bars1))\n",
    "r2 = [x + barWidth for x in r1]\n",
    "r3 = [x + barWidth for x in r2]\n",
    "\n",
    "# Make the plot\n",
    "plt.bar(r1, bars1, color='#3f8d00', width=barWidth, edgecolor='white', label='Inception')\n",
    "plt.bar(r2, bars2, color='#555f2d', width=barWidth, edgecolor='white', label='Mobile')\n",
    "plt.bar(r3, bars3, color='#f47003', width=barWidth, edgecolor='white', label='VGG19')\n",
    "\n",
    "# Add xticks on the middle of the group bars\n",
    "plt.xlabel('group', fontweight='bold')\n",
    "plt.xticks([r + barWidth for r in range(len(bars1))], ['ELBOW', 'FINGER','FOREARM','HAND', 'HUMERUS', 'SHOULDER', 'WRIST'])\n",
    "\n",
    "# Create legend & Show graphic\n",
    "plt.legend()\n",
    "plt.show()"
   ]
  },
  {
   "cell_type": "code",
   "execution_count": null,
   "metadata": {},
   "outputs": [],
   "source": []
  }
 ],
 "metadata": {
  "kernelspec": {
   "display_name": "Python 3",
   "language": "python",
   "name": "python3"
  },
  "language_info": {
   "codemirror_mode": {
    "name": "ipython",
    "version": 3
   },
   "file_extension": ".py",
   "mimetype": "text/x-python",
   "name": "python",
   "nbconvert_exporter": "python",
   "pygments_lexer": "ipython3",
   "version": "3.6.9"
  }
 },
 "nbformat": 4,
 "nbformat_minor": 2
}
