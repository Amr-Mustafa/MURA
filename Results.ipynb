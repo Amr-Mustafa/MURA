{
 "cells": [
  {
   "cell_type": "code",
   "execution_count": null,
   "metadata": {},
   "outputs": [],
   "source": [
    "import numpy as np\n",
    "import pandas as pd\n",
    "from pandas import Series, DataFrame\n",
    "import matplotlib.pyplot as plt\n",
    "\n",
    "bars1 = [test_Elbow_inception,test_FINGER_inception,test_Arm_inception,test_HAND_inception,test_HUMERUS_inception,test_SHOULDER_inception,history_inception_WRIST]\n",
    "bars2 = [test_accElbow_mob,test_accFinger_mob,test_accArm_mob,test_accHand_mob,test_accHmerus_mob,test_accShoulder_mob,test_accWrist_mob]\n",
    "bars3 = [test_accElbow,test_accFinger,test_accArm,test_accHand,test_accHmerus,test_accShoulder,test_accWrist]\n",
    "\n",
    "r1 = np.arange(len(bars1))\n",
    "r2 = [x + barWidth for x in r1]\n",
    "r3 = [x + barWidth for x in r2]\n",
    " \n",
    "plt.bar(r1, bars1, color='#ffcc00', width=barWidth, edgecolor='white', label='Inception')\n",
    "plt.bar(r2, bars2, color='#02a8a8', width=barWidth, edgecolor='white', label='MobileNet')\n",
    "plt.bar(r3, bars3, color='#0c9463', width=barWidth, edgecolor='white', label='VGG19')\n",
    " \n",
    "plt.xlabel('Body Part', fontweight='bold')\n",
    "plt.xticks([r + barWidth for r in range(len(bars1))], ['ELBOW', 'FINGER','FOREARM','HAND', 'HUMERUS', 'SHOULDER', 'WRIST'])\n",
    " \n",
    "plt.legend()\n",
    "plt.show()\n"
   ]
  }
 ],
 "metadata": {
  "kernelspec": {
   "display_name": "Python 3",
   "language": "python",
   "name": "python3"
  },
  "language_info": {
   "codemirror_mode": {
    "name": "ipython",
    "version": 3
   },
   "file_extension": ".py",
   "mimetype": "text/x-python",
   "name": "python",
   "nbconvert_exporter": "python",
   "pygments_lexer": "ipython3",
   "version": "3.6.9"
  }
 },
 "nbformat": 4,
 "nbformat_minor": 2
}
