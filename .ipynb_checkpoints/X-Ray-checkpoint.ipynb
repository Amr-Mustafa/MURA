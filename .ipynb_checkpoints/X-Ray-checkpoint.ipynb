{
 "cells": [
  {
   "cell_type": "code",
   "execution_count": 13,
   "metadata": {},
   "outputs": [],
   "source": [
    "import cv2\n",
    "import os\n",
    "import glob\n",
    "import numpy as np\n",
    "import pandas as pd\n",
    "import imageio\n",
    "import matplotlib.pyplot as plt\n"
   ]
  },
  {
   "cell_type": "code",
   "execution_count": 14,
   "metadata": {},
   "outputs": [
    {
     "name": "stdout",
     "output_type": "stream",
     "text": [
      "Requirement already satisfied: pillow in d:\\anaconda\\lib\\site-packages (6.1.0)\n",
      "Note: you may need to restart the kernel to use updated packages.\n"
     ]
    }
   ],
   "source": [
    " pip install pillow\n"
   ]
  },
  {
   "cell_type": "code",
   "execution_count": 15,
   "metadata": {},
   "outputs": [],
   "source": [
    "mura_Dir = \"MURA-v1.1/\"\n",
    "train_imgs_path=pd.read_csv(mura_Dir+'train_image_paths.csv',names=[\"Train Dataset\"])\n",
    "train_labels=pd.read_csv(mura_Dir+'train_labeled_studies.csv',names=[\"Train Labeled Studies\",\"label\"])\n",
    "test_imgs_path=pd.read_csv(mura_Dir+'valid_image_paths.csv',names=[\"Test Dataset\"])\n",
    "test_labels=pd.read_csv(mura_Dir+'valid_labeled_studies.csv',names=[\"Test Labeled Studies\",\"labels\"])\n"
   ]
  },
  {
   "cell_type": "code",
   "execution_count": 16,
   "metadata": {},
   "outputs": [],
   "source": [
    "train_imgs_path_numpy_Unspervised=train_imgs_path['Train Dataset'].to_numpy()\n",
    "test_imgs_path_numpy_Unspervised=test_imgs_path['Test Dataset'].to_numpy()\n"
   ]
  },
  {
   "cell_type": "code",
   "execution_count": 17,
   "metadata": {},
   "outputs": [],
   "source": [
    "def convertThenumpy(_numpy):\n",
    "    nData=[]\n",
    "    for i in range(0,len(_numpy)):\n",
    "        f1=_numpy[i]\n",
    "        for image_path in glob.glob(f1):\n",
    "            _imgs = imageio.imread(image_path)\n",
    "            nData.append(_imgs)\n",
    "    return nData    \n"
   ]
  },
  {
   "cell_type": "code",
   "execution_count": null,
   "metadata": {},
   "outputs": [],
   "source": [
    "trainData_Unspervised=convertThenumpy(train_imgs_path_numpy_Unspervised)\n",
    "testData_Unspervised=convertThenumpy(test_imgs_path_numpy_Unspervised)"
   ]
  },
  {
   "cell_type": "code",
   "execution_count": null,
   "metadata": {},
   "outputs": [],
   "source": [
    "cv2.imshow('image',trainData_Unspervised[333])\n",
    "cv2.waitKey(0)\n",
    "cv2.destroyAllWindows()\n"
   ]
  },
  {
   "cell_type": "code",
   "execution_count": null,
   "metadata": {},
   "outputs": [],
   "source": [
    "cv2.imshow('image',testData_Unspervised[333])\n",
    "cv2.waitKey(0)\n",
    "cv2.destroyAllWindows()\n"
   ]
  },
  {
   "cell_type": "code",
   "execution_count": null,
   "metadata": {},
   "outputs": [],
   "source": []
  },
  {
   "cell_type": "code",
   "execution_count": null,
   "metadata": {},
   "outputs": [],
   "source": []
  }
 ],
 "metadata": {
  "kernelspec": {
   "display_name": "Python 3",
   "language": "python",
   "name": "python3"
  },
  "language_info": {
   "codemirror_mode": {
    "name": "ipython",
    "version": 3
   },
   "file_extension": ".py",
   "mimetype": "text/x-python",
   "name": "python",
   "nbconvert_exporter": "python",
   "pygments_lexer": "ipython3",
   "version": "3.7.3"
  }
 },
 "nbformat": 4,
 "nbformat_minor": 2
}
