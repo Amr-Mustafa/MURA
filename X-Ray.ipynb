{
 "cells": [
  {
   "cell_type": "code",
   "execution_count": 87,
   "metadata": {},
   "outputs": [],
   "source": [
    "import cv2\n",
    "import os\n",
    "import glob\n",
    "import numpy as np\n",
    "import pandas as pd\n",
    "import imageio\n",
    "import matplotlib.pyplot as plt\n"
   ]
  },
  {
   "cell_type": "code",
   "execution_count": 88,
   "metadata": {},
   "outputs": [
    {
     "name": "stdout",
     "output_type": "stream",
     "text": [
      "Requirement already satisfied: pillow in d:\\anaconda\\lib\\site-packages (6.1.0)\n",
      "Note: you may need to restart the kernel to use updated packages.\n"
     ]
    }
   ],
   "source": [
    " pip install pillow\n"
   ]
  },
  {
   "cell_type": "code",
   "execution_count": 89,
   "metadata": {},
   "outputs": [],
   "source": [
    "mura_Dir = \"MURA-v1.1/\"\n",
    "train_imgs_path=pd.read_csv(mura_Dir+'train_image_paths.csv',names=[\"Train Dataset\"])\n",
    "train_labels=pd.read_csv(mura_Dir+'train_labeled_studies.csv',names=[\"Train Labeled Studies\",\"label\"])\n",
    "test_imgs_path=pd.read_csv(mura_Dir+'valid_image_paths.csv',names=[\"Test Dataset\"])\n",
    "test_labels=pd.read_csv(mura_Dir+'valid_labeled_studies.csv',names=[\"Test Labeled Studies\",\"labels\"])\n"
   ]
  },
  {
   "cell_type": "code",
   "execution_count": 90,
   "metadata": {},
   "outputs": [],
   "source": [
    "train_imgs_path_numpy=train_imgs_path['Train Dataset'].to_numpy()\n"
   ]
  },
  {
   "cell_type": "code",
   "execution_count": 94,
   "metadata": {},
   "outputs": [],
   "source": [
    "trainData=[]\n",
    "for i in range(0,len(train_imgs_path_numpy)):\n",
    "    f1=train_imgs_path_numpy[i]\n",
    "    for image_path in glob.glob(f1):\n",
    "        im_train_imgs = imageio.imread(image_path)\n",
    "        trainData.append(im_train_imgs)\n"
   ]
  },
  {
   "cell_type": "code",
   "execution_count": 96,
   "metadata": {},
   "outputs": [],
   "source": [
    "cv2.imshow('image',trainData[55])\n",
    "cv2.waitKey(0)\n",
    "cv2.destroyAllWindows()\n"
   ]
  },
  {
   "cell_type": "code",
   "execution_count": null,
   "metadata": {},
   "outputs": [],
   "source": []
  },
  {
   "cell_type": "code",
   "execution_count": null,
   "metadata": {},
   "outputs": [],
   "source": []
  },
  {
   "cell_type": "code",
   "execution_count": null,
   "metadata": {},
   "outputs": [],
   "source": []
  }
 ],
 "metadata": {
  "kernelspec": {
   "display_name": "Python 3",
   "language": "python",
   "name": "python3"
  },
  "language_info": {
   "codemirror_mode": {
    "name": "ipython",
    "version": 3
   },
   "file_extension": ".py",
   "mimetype": "text/x-python",
   "name": "python",
   "nbconvert_exporter": "python",
   "pygments_lexer": "ipython3",
   "version": "3.7.3"
  }
 },
 "nbformat": 4,
 "nbformat_minor": 2
}
