{
 "cells": [
  {
   "cell_type": "code",
   "execution_count": 1,
   "metadata": {},
   "outputs": [
    {
     "name": "stderr",
     "output_type": "stream",
     "text": [
      "Using TensorFlow backend.\n"
     ]
    }
   ],
   "source": [
    "from __future__ import absolute_import, division, print_function, unicode_literals\n",
    "import numpy as np\n",
    "import pandas as pd\n",
    "import tensorflow as tf\n",
    "from tensorflow import feature_column\n",
    "from tensorflow.keras import layers\n",
    "from tensorflow.keras import regularizers\n",
    "from sklearn.model_selection import train_test_split\n",
    "import os\n",
    "import glob\n",
    "import cv2\n",
    "import seaborn as sns\n",
    "import matplotlib.pyplot as plt\n",
    "import tensorflow_hub as hub\n",
    "from keras.preprocessing import image"
   ]
  },
  {
   "cell_type": "markdown",
   "metadata": {},
   "source": [
    "# Set Up MURA Dataset"
   ]
  },
  {
   "cell_type": "code",
   "execution_count": 2,
   "metadata": {},
   "outputs": [],
   "source": [
    "data_dir = \"..\\\\MURA-v1.1\"\n",
    "\n",
    "train_images_path = pd.read_csv(os.path.join(data_dir, 'train_image_paths.csv'),names=[\"Train Dataset\"])\n",
    "train_labels = pd.read_csv(os.path.join(data_dir, 'train_labeled_studies.csv'),names=[\"Train Labeled Studies\", \"label\"])\n",
    "\n",
    "validation_images_path = pd.read_csv(os.path.join(data_dir, 'valid_image_paths.csv'),names=[\"Validation Dataset\"])\n",
    "validation_labels = pd.read_csv(os.path.join(data_dir, 'valid_labeled_studies.csv'),names=[\"Validation Labeled Studies\", \"label\"])"
   ]
  },
  {
   "cell_type": "code",
   "execution_count": 3,
   "metadata": {},
   "outputs": [],
   "source": [
    "train_images_path = train_images_path.sort_values(by=['Train Dataset'])\n",
    "train_labels = train_labels.sort_values(by=['Train Labeled Studies'])\n",
    "\n",
    "validation_images_path = validation_images_path.sort_values(by=['Validation Dataset'])\n",
    "validation_labels = validation_labels.sort_values(by=['Validation Labeled Studies'])"
   ]
  },
  {
   "cell_type": "code",
   "execution_count": 4,
   "metadata": {},
   "outputs": [],
   "source": [
    "train_labels['Body Part'] = train_labels['Train Labeled Studies'].apply(lambda x: str(x.split('/')[2])[3:])\n",
    "train_labels['Study Type'] = train_labels['Train Labeled Studies'].apply(lambda x: str(x.split('/')[4])[:6])"
   ]
  },
  {
   "cell_type": "code",
   "execution_count": 5,
   "metadata": {},
   "outputs": [],
   "source": [
    "validation_labels['Body Part'] = validation_labels['Validation Labeled Studies'].apply(lambda x: str(x.split('/')[2])[3:])\n",
    "validation_labels['Study Type'] = validation_labels['Validation Labeled Studies'].apply(lambda x: str(x.split('/')[4])[:6])"
   ]
  },
  {
   "cell_type": "markdown",
   "metadata": {},
   "source": [
    "## Plot Data Statistics"
   ]
  },
  {
   "cell_type": "code",
   "execution_count": 6,
   "metadata": {},
   "outputs": [
    {
     "data": {
      "text/plain": [
       "<matplotlib.axes._subplots.AxesSubplot at 0x1bf5867f808>"
      ]
     },
     "execution_count": 6,
     "metadata": {},
     "output_type": "execute_result"
    },
    {
     "data": {
      "image/png": "[encoded data removed]",
      "text/plain": [
       "<Figure size 432x288 with 1 Axes>"
      ]
     },
     "metadata": {
      "needs_background": "light"
     },
     "output_type": "display_data"
    }
   ],
   "source": [
    "sns.countplot(data=validation_labels, x='Body Part', hue='label')"
   ]
  },
  {
   "cell_type": "code",
   "execution_count": 7,
   "metadata": {},
   "outputs": [
    {
     "data": {
      "text/plain": [
       "<matplotlib.axes._subplots.AxesSubplot at 0x1bf649c20c8>"
      ]
     },
     "execution_count": 7,
     "metadata": {},
     "output_type": "execute_result"
    },
    {
     "data": {
      "image/png": "[encoded data removed]",
      "text/plain": [
       "<Figure size 432x288 with 1 Axes>"
      ]
     },
     "metadata": {
      "needs_background": "light"
     },
     "output_type": "display_data"
    }
   ],
   "source": [
    "sns.countplot(data=train_labels, x='Body Part', hue='label')"
   ]
  },
  {
   "cell_type": "markdown",
   "metadata": {},
   "source": [
    "## Read In Training and Validation Data"
   ]
  },
  {
   "cell_type": "code",
   "execution_count": 8,
   "metadata": {},
   "outputs": [],
   "source": [
    "def get_image_array(image_dir):\n",
    "\n",
    "    data_path = os.path.join(image_dir,'*g')\n",
    "    files = glob.glob(data_path)\n",
    "    data = []\n",
    "    i=0\n",
    "    for f1 in files:\n",
    "        i=i+1\n",
    "        img = cv2.imread(f1)\n",
    "        data.append(img)\n",
    "           \n",
    "    return data"
   ]
  },
  {
   "cell_type": "code",
   "execution_count": 9,
   "metadata": {},
   "outputs": [],
   "source": [
    "def load_data(data_dir, limit=None, body_part=None, dataset_type=\"train\"):\n",
    "    assert (body_part is None) or (type(body_part) == str)\n",
    "    assert (limit is None) or ((type(limit) == int) and limit >= 0)\n",
    "    \n",
    "    train_X, train_y = [], []\n",
    "    counter = 0\n",
    "    \n",
    "    if dataset_type == \"train\":\n",
    "        file_path = data_dir + \"//train_image_paths.csv\"\n",
    "    elif dataset_type == \"validation\":\n",
    "        file_path = data_dir + \"//valid_image_paths.csv\"\n",
    "    \n",
    "    with open(file_path) as csv_file:\n",
    "        data = pd.read_csv(csv_file, header=None)\n",
    "        shuffled_data = data.sample(frac=1)\n",
    "        \n",
    "        for index, row in shuffled_data.iterrows():\n",
    "\n",
    "            # Limit the number of read data examples.\n",
    "            if limit and counter >= limit: break\n",
    "            \n",
    "            # Retrieve data specific to a given body part only.\n",
    "            if body_part is not None and not body_part.upper() in row[0]: continue\n",
    "                \n",
    "            image_path = \"..//\" + row[0]\n",
    "            img = image.load_img(image_path, target_size = (224, 224))\n",
    "            img = image.img_to_array(img)\n",
    "            img = np.expand_dims(img, axis = 0)\n",
    "            #img = img.reshape((1,) + img.shape)\n",
    "\n",
    "            train_X.append(img)\n",
    "            train_y.append(label_image(row[0]))\n",
    "\n",
    "            counter = counter + 1\n",
    "            \n",
    "    return np.asarray(train_X), np.asarray(train_y)"
   ]
  },
  {
   "cell_type": "code",
   "execution_count": 10,
   "metadata": {},
   "outputs": [],
   "source": [
    "def label_image(img_path):\n",
    "    return 1 if \"positive\" in img_path else 0"
   ]
  },
  {
   "cell_type": "code",
   "execution_count": 11,
   "metadata": {},
   "outputs": [],
   "source": [
    "train_X, train_y = load_data(\"..//MURA-v1.1\", limit=2000, dataset_type=\"train\")\n",
    "validation_X, validation_y = load_data(\"..//MURA-v1.1\", limit=1000, dataset_type=\"validation\")"
   ]
  },
  {
   "cell_type": "code",
   "execution_count": 12,
   "metadata": {},
   "outputs": [],
   "source": [
    "train_X_HUMERUS, train_y_HUMERUS = load_data(\"..//MURA-v1.1\", limit=2000, body_part=\"HUMERUS\", dataset_type=\"train\")\n",
    "validation_X_HUMERUS, validation_y_HUMERUS = load_data(\"..//MURA-v1.1\", limit=1000, body_part=\"HUMERUS\", dataset_type=\"validation\")"
   ]
  },
  {
   "cell_type": "code",
   "execution_count": 13,
   "metadata": {},
   "outputs": [],
   "source": [
    "train_X_WRIST, train_y_WRIST = load_data(\"..//MURA-v1.1\", limit=2000, body_part=\"WRIST\", dataset_type=\"train\")\n",
    "validation_X_WRIST, validation_y_WRIST = load_data(\"..//MURA-v1.1\", limit=1000, body_part=\"WRIST\", dataset_type=\"validation\")"
   ]
  },
  {
   "cell_type": "code",
   "execution_count": 14,
   "metadata": {},
   "outputs": [],
   "source": [
    "train_X = train_X.reshape(-1, 224, 224, 3) / 255.0\n",
    "validation_X = validation_X.reshape(-1, 224, 224, 3) / 255.0"
   ]
  },
  {
   "cell_type": "code",
   "execution_count": 15,
   "metadata": {},
   "outputs": [],
   "source": [
    "train_X_HUMERUS = train_X_HUMERUS.reshape(-1, 224, 224, 3) / 255.0\n",
    "validation_X_HUMERUS = validation_X_HUMERUS.reshape(-1, 224, 224, 3) / 255.0"
   ]
  },
  {
   "cell_type": "code",
   "execution_count": 16,
   "metadata": {},
   "outputs": [],
   "source": [
    "train_X_WRIST = train_X_WRIST.reshape(-1, 224, 224, 3) / 255.0\n",
    "validation_X_WRIST = validation_X_WRIST.reshape(-1, 224, 224, 3) / 255.0"
   ]
  },
  {
   "cell_type": "code",
   "execution_count": 17,
   "metadata": {},
   "outputs": [],
   "source": [
    "def show_images(images, cols = 1, titles = None):\n",
    "    assert((titles is None)or (len(images) == len(titles)))\n",
    "    n_images = len(images)\n",
    "    if titles is None: titles = ['Image (%d)' % i for i in range(1,n_images + 1)]\n",
    "    fig = plt.figure()\n",
    "    for n, (image, title) in enumerate(zip(images, titles)):\n",
    "        a = fig.add_subplot(cols, np.ceil(n_images/float(cols)), n + 1)\n",
    "        if image.ndim == 2:\n",
    "            plt.gray()\n",
    "        plt.imshow(image)\n",
    "        a.set_title(title)\n",
    "    fig.set_size_inches(np.array(fig.get_size_inches()) * n_images)\n",
    "    plt.show()"
   ]
  },
  {
   "cell_type": "code",
   "execution_count": 18,
   "metadata": {},
   "outputs": [
    {
     "name": "stdout",
     "output_type": "stream",
     "text": [
      "(1272, 224, 224, 3)\n",
      "(1272,)\n"
     ]
    }
   ],
   "source": [
    "print(train_X_HUMERUS.shape)\n",
    "print(train_y_HUMERUS.shape)"
   ]
  },
  {
   "cell_type": "markdown",
   "metadata": {},
   "source": [
    "# Inception V1 Model"
   ]
  },
  {
   "cell_type": "code",
   "execution_count": 19,
   "metadata": {},
   "outputs": [],
   "source": [
    "def plotingModel(history_):\n",
    "\n",
    "    plt.plot(history_.history['loss'])\n",
    "    plt.plot(history_.history['val_loss'])\n",
    "    plt.title(\"Train vs Validation Loss\")\n",
    "    plt.ylabel('loss')\n",
    "    plt.xlabel('epoch')\n",
    "    plt.grid(False)\n",
    "\n",
    "    plt.legend(['train', 'test'], loc='upper right')"
   ]
  },
  {
   "cell_type": "code",
   "execution_count": 23,
   "metadata": {},
   "outputs": [
    {
     "name": "stdout",
     "output_type": "stream",
     "text": [
      "Model: \"sequential_1\"\n",
      "_________________________________________________________________\n",
      "Layer (type)                 Output Shape              Param #   \n",
      "=================================================================\n",
      "keras_layer_1 (KerasLayer)   multiple                  5607184   \n",
      "_________________________________________________________________\n",
      "flatten_1 (Flatten)          multiple                  0         \n",
      "_________________________________________________________________\n",
      "dense_2 (Dense)              multiple                  262400    \n",
      "_________________________________________________________________\n",
      "dropout_1 (Dropout)          multiple                  0         \n",
      "_________________________________________________________________\n",
      "dense_3 (Dense)              multiple                  257       \n",
      "=================================================================\n",
      "Total params: 5,869,841\n",
      "Trainable params: 262,657\n",
      "Non-trainable params: 5,607,184\n",
      "_________________________________________________________________\n"
     ]
    }
   ],
   "source": [
    "inception_base_layer = hub.KerasLayer(\"https://tfhub.dev/google/imagenet/inception_v1/feature_vector/4\")\n",
    "\n",
    "inception_model = tf.keras.Sequential()\n",
    "inception_model.add(inception_base_layer)\n",
    "inception_model.add(tf.keras.layers.Flatten())\n",
    "inception_model.add(tf.keras.layers.Dense(256, activation='relu', kernel_regularizer=regularizers.l2(0.01)))\n",
    "inception_model.add(tf.keras.layers.Dropout(0.5))\n",
    "inception_model.add(tf.keras.layers.Dense(1, activation='sigmoid'))\n",
    "\n",
    "inception_model.build([None, 224, 224, 3])  # Batch input shape.\n",
    "inception_model.compile(optimizer = 'adamax', loss=\"binary_crossentropy\", metrics = ['accuracy'])\n",
    "inception_model.summary()\n",
    "#history_inception = inception_model.fit(train_X_WRIST, train_y_WRIST, epochs=10, batch_size=32, validation_data=(validation_X_WRIST, validation_y_WRIST))\n",
    "\n",
    "#inception_model.evaluate(train_X / 255.0, train_y)"
   ]
  },
  {
   "cell_type": "code",
   "execution_count": 21,
   "metadata": {},
   "outputs": [
    {
     "data": {
      "image/png": "[encoded data removed]",
      "text/plain": [
       "<Figure size 432x288 with 1 Axes>"
      ]
     },
     "metadata": {
      "needs_background": "light"
     },
     "output_type": "display_data"
    }
   ],
   "source": [
    "plotingModel(history_inception)"
   ]
  },
  {
   "cell_type": "markdown",
   "metadata": {},
   "source": [
    "## Class: Finger"
   ]
  },
  {
   "cell_type": "code",
   "execution_count": 22,
   "metadata": {},
   "outputs": [
    {
     "name": "stdout",
     "output_type": "stream",
     "text": [
      "Train on 5106 samples, validate on 461 samples\n",
      "Epoch 1/5\n",
      "5106/5106 [==============================] - 278s 55ms/sample - loss: 0.6482 - accuracy: 0.6708 - val_loss: 0.6511 - val_accuracy: 0.7028\n",
      "Epoch 2/5\n",
      "5106/5106 [==============================] - 227s 44ms/sample - loss: 0.6133 - accuracy: 0.6888 - val_loss: 0.6822 - val_accuracy: 0.6746\n",
      "Epoch 3/5\n",
      "5106/5106 [==============================] - 218s 43ms/sample - loss: 0.6025 - accuracy: 0.6982 - val_loss: 0.7804 - val_accuracy: 0.5380\n",
      "Epoch 4/5\n",
      "5106/5106 [==============================] - 216s 42ms/sample - loss: 0.5935 - accuracy: 0.7129 - val_loss: 0.6262 - val_accuracy: 0.7223\n",
      "Epoch 5/5\n",
      "5106/5106 [==============================] - 215s 42ms/sample - loss: 0.6038 - accuracy: 0.7002 - val_loss: 0.6069 - val_accuracy: 0.7180\n"
     ]
    },
    {
     "data": {
      "image/png": "[encoded data removed]",
      "text/plain": [
       "<Figure size 432x288 with 1 Axes>"
      ]
     },
     "metadata": {
      "needs_background": "light"
     },
     "output_type": "display_data"
    }
   ],
   "source": [
    "train_X_FINGER, train_y_FINGER = load_data(\"..//MURA-v1.1\", body_part=\"FINGER\", dataset_type=\"train\")\n",
    "validation_X_FINGER, validation_y_FINGER = load_data(\"..//MURA-v1.1\", body_part=\"FINGER\", dataset_type=\"validation\")\n",
    "\n",
    "train_X_FINGER = train_X_FINGER.reshape(-1, 224, 224, 3) / 255.0\n",
    "validation_X_FINGER = validation_X_FINGER.reshape(-1, 224, 224, 3) / 255.0\n",
    "\n",
    "history_inception = inception_model.fit(train_X_FINGER, train_y_FINGER, epochs=5, batch_size=32, validation_data=(validation_X_FINGER, validation_y_FINGER))\n",
    "\n",
    "plotingModel(history_inception)"
   ]
  },
  {
   "cell_type": "markdown",
   "metadata": {},
   "source": [
    "## Class: Elbow"
   ]
  },
  {
   "cell_type": "code",
   "execution_count": null,
   "metadata": {},
   "outputs": [
    {
     "name": "stdout",
     "output_type": "stream",
     "text": [
      "Train on 4931 samples, validate on 465 samples\n",
      "Epoch 1/5\n",
      "4931/4931 [==============================] - 420s 85ms/sample - loss: 2.7421 - accuracy: 0.6504 - val_loss: 1.8682 - val_accuracy: 0.6559\n",
      "Epoch 2/5\n",
      "4931/4931 [==============================] - 226s 46ms/sample - loss: 1.5308 - accuracy: 0.7153 - val_loss: 1.2945 - val_accuracy: 0.7118\n",
      "Epoch 3/5\n",
      "2080/4931 [===========>..................] - ETA: 2:07 - loss: 1.2354 - accuracy: 0.7111"
     ]
    }
   ],
   "source": [
    "train_X_ELBOW, train_y_ELBOW = load_data(\"..//MURA-v1.1\", body_part=\"ELBOW\", dataset_type=\"train\")\n",
    "validation_X_ELBOW, validation_y_ELBOW = load_data(\"..//MURA-v1.1\", body_part=\"ELBOW\", dataset_type=\"validation\")\n",
    "\n",
    "train_X_ELBOW = train_X_ELBOW.reshape(-1, 224, 224, 3) / 255.0\n",
    "validation_X_ELBOW = validation_X_ELBOW.reshape(-1, 224, 224, 3) / 255.0\n",
    "\n",
    "history_inception = inception_model.fit(train_X_ELBOW, train_y_ELBOW, epochs=5, batch_size=32, validation_data=(validation_X_ELBOW, validation_y_ELBOW))\n",
    "\n",
    "plotingModel(history_inception)"
   ]
  },
  {
   "cell_type": "code",
   "execution_count": null,
   "metadata": {},
   "outputs": [],
   "source": []
  }
 ],
 "metadata": {
  "kernelspec": {
   "display_name": "Python 3",
   "language": "python",
   "name": "python3"
  },
  "language_info": {
   "codemirror_mode": {
    "name": "ipython",
    "version": 3
   },
   "file_extension": ".py",
   "mimetype": "text/x-python",
   "name": "python",
   "nbconvert_exporter": "python",
   "pygments_lexer": "ipython3",
   "version": "3.7.5"
  }
 },
 "nbformat": 4,
 "nbformat_minor": 4
}
